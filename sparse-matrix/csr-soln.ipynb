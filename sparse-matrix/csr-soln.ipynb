{
 "cells": [
  {
   "cell_type": "markdown",
   "metadata": {},
   "source": [
    "# CSR: Compressed Sparse Row für dünnbesetzte Matrizen"
   ]
  },
  {
   "cell_type": "code",
   "execution_count": 2,
   "metadata": {},
   "outputs": [],
   "source": [
    "import numpy as np"
   ]
  },
  {
   "cell_type": "code",
   "execution_count": 7,
   "metadata": {},
   "outputs": [
    {
     "data": {
      "text/plain": [
       "array([[1, 4, 0, 0, 1],\n",
       "       [0, 0, 0, 0, 0],\n",
       "       [0, 5, 6, 0, 0],\n",
       "       [0, 0, 3, 0, 0]])"
      ]
     },
     "execution_count": 7,
     "metadata": {},
     "output_type": "execute_result"
    }
   ],
   "source": [
    "matrix = np.array([[1, 4, 0, 0, 1],\n",
    "                    [0, 0, 0, 0, 0],\n",
    "                    [0, 5, 6, 0, 0],\n",
    "                    [0, 0, 3, 0, 0]])\n",
    "matrix\n"
   ]
  },
  {
   "cell_type": "code",
   "execution_count": 8,
   "metadata": {},
   "outputs": [
    {
     "data": {
      "text/plain": [
       "array([3, 4, 5, 6, 7])"
      ]
     },
     "execution_count": 8,
     "metadata": {},
     "output_type": "execute_result"
    }
   ],
   "source": [
    "vector = np.array([3, 4, 5, 6, 7])\n",
    "vector"
   ]
  },
  {
   "cell_type": "code",
   "execution_count": 10,
   "metadata": {},
   "outputs": [
    {
     "data": {
      "text/plain": [
       "array([26,  0, 50, 15])"
      ]
     },
     "execution_count": 10,
     "metadata": {},
     "output_type": "execute_result"
    }
   ],
   "source": [
    "# Matrix-Vector-Multiply:\n",
    "# For each row in matrix: Multiply pairwise elements with vector\n",
    "matrix @ vector"
   ]
  },
  {
   "cell_type": "code",
   "execution_count": 22,
   "metadata": {},
   "outputs": [],
   "source": [
    "# CSR-Representation\n",
    "# val: Non-zero values in Reihenfolge der Matrix (zeilenweise)\n",
    "val = np.array([1, 4, 1, 5, 6, 3])\n",
    "# col_index: in welcher Spalte steht der jeweilige Wert?\n",
    "col_index = np.array([0, 1, 4, 1, 2, 2])\n",
    "# row_ptr: bei welchen Index startet die Zeile? \n",
    "# Wenn nur Nullen in einer Zeile, dann Index der nächsten Zeile\n",
    "# Zusätzliches Element mit Anzahl der Non-Zero Values\n",
    "row_ptr = np.array([0, 3, 3, 5, 6])"
   ]
  },
  {
   "cell_type": "code",
   "execution_count": 27,
   "metadata": {},
   "outputs": [
    {
     "data": {
      "text/plain": [
       "array([26.,  0., 50., 15.])"
      ]
     },
     "execution_count": 27,
     "metadata": {},
     "output_type": "execute_result"
    }
   ],
   "source": [
    "# Result contains one row per row in the matrix (first dim of matrix, shape[0])\n",
    "result = np.zeros(matrix.shape[0])\n",
    "for row in range(matrix.shape[0]):\n",
    "    # In each row we do pairwise elements multiplication\n",
    "    # what are all the entries belonging to one row?\n",
    "    # We start at row_ptr[row] and end before beginning of next row\n",
    "    for ptr in range(row_ptr[row], row_ptr[row+1]):\n",
    "        # To know which position in the vector to take, we look at col_index\n",
    "        result[row] += val[ptr] * vector[col_index[ptr]]\n",
    "result\n"
   ]
  }
 ],
 "metadata": {
  "interpreter": {
   "hash": "9b723ee73e910167a1203d362af322eea6d715ec4fd5956d6fe6391ae3f4a133"
  },
  "kernelspec": {
   "display_name": "Python 3.8.1 64-bit ('hpc': pyenv)",
   "name": "python3"
  },
  "language_info": {
   "codemirror_mode": {
    "name": "ipython",
    "version": 3
   },
   "file_extension": ".py",
   "mimetype": "text/x-python",
   "name": "python",
   "nbconvert_exporter": "python",
   "pygments_lexer": "ipython3",
   "version": "3.8.1"
  },
  "orig_nbformat": 4
 },
 "nbformat": 4,
 "nbformat_minor": 2
}
