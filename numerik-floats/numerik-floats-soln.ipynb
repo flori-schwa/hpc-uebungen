{
 "cells": [
  {
   "cell_type": "markdown",
   "metadata": {},
   "source": [
    "# Numerische Überlegungen zur Summenbildung\n",
    "\n",
    "Wir verwenden 32-Bit Floats (Single Precision Floating Point) siehe [hier](https://en.wikipedia.org/wiki/Single-precision_floating-point_format).\n",
    "\n",
    "Der folgende Code erstellt ein Array mit 1 Million und 1 Eintrag:\n",
    "- 1 Million mal die 1.0\n",
    "- 1 mal die 1,000,000,000,000.0 (1e12)\n",
    "\n",
    "Das Array `values_asc` ist aufsteigend sortiert. Es wird ebenso eine absteigend sortierte Version `values_desc` und eine zufällig angeordnete Version `values_rand` erstellt. \n",
    "\n",
    "Von allen Arrays wird mit der `.sum()` -Methode die Summe gebildet. Welche werten kommen raus? Warum unterscheiden sich diese? Danach kommt eine manuelle For-Schleife - wie vergleicht sich das Ergebnis. Können Sie in NumPy-Dokumentation rausfinden welches Verfahren hier genutzt wird?\n",
    "\n",
    "Implementieren Sie zwei geeignetere Verfahren:\n",
    "- Verwendung einer 64-Bit Float Variable für die Summe\n",
    "- [Paarweise Addition](https://en.wikipedia.org/wiki/Pairwise_summation)\n",
    "\n",
    "Welche Ergebnisse erhalten Sie? Warum sind diese genauer?"
   ]
  },
  {
   "cell_type": "code",
   "execution_count": 73,
   "metadata": {},
   "outputs": [],
   "source": [
    "import numpy as np"
   ]
  },
  {
   "cell_type": "code",
   "execution_count": 67,
   "metadata": {},
   "outputs": [
    {
     "data": {
      "text/plain": [
       "array([1.e+00, 1.e+00, 1.e+00, ..., 1.e+00, 1.e+00, 1.e+12], dtype=float32)"
      ]
     },
     "execution_count": 67,
     "metadata": {},
     "output_type": "execute_result"
    }
   ],
   "source": [
    "# Erstelle ein Array mit 1 Million mal 1.0 und 1 Eintrag 1e12\n",
    "values_asc = np.array(int(1e6) * [1.0] + [1e12],dtype=np.float32)\n",
    "values_asc"
   ]
  },
  {
   "cell_type": "code",
   "execution_count": 74,
   "metadata": {},
   "outputs": [
    {
     "data": {
      "text/plain": [
       "array([1.e+12, 1.e+00, 1.e+00, ..., 1.e+00, 1.e+00, 1.e+00], dtype=float32)"
      ]
     },
     "execution_count": 74,
     "metadata": {},
     "output_type": "execute_result"
    }
   ],
   "source": [
    "# Setze den Eintrag für 1e12 an die erste Stelle\n",
    "values_desc = np.flip(values_asc)\n",
    "values_desc"
   ]
  },
  {
   "cell_type": "code",
   "execution_count": 75,
   "metadata": {},
   "outputs": [
    {
     "data": {
      "text/plain": [
       "array([1., 1., 1., ..., 1., 1., 1.], dtype=float32)"
      ]
     },
     "execution_count": 75,
     "metadata": {},
     "output_type": "execute_result"
    }
   ],
   "source": [
    "# Zufällige Reihenfolge\n",
    "np.random.seed(2021)\n",
    "values_rand = values_asc.copy()\n",
    "np.random.shuffle(values_rand)\n",
    "values_rand"
   ]
  },
  {
   "cell_type": "code",
   "execution_count": 95,
   "metadata": {},
   "outputs": [
    {
     "name": "stdout",
     "output_type": "stream",
     "text": [
      "Ascending order:   1,000,000,978,944\n",
      "Random order:      1,000,000,389,120\n",
      "Descending order:    999,999,995,904\n"
     ]
    }
   ],
   "source": [
    "# Summen:\n",
    "print(f'Ascending order:  {values_asc.sum():18,.0f}')\n",
    "print(f'Random order:     {values_rand.sum():18,.0f}')\n",
    "print(f'Descending order: {values_desc.sum():18,.0f}')"
   ]
  },
  {
   "cell_type": "code",
   "execution_count": 96,
   "metadata": {},
   "outputs": [
    {
     "name": "stdout",
     "output_type": "stream",
     "text": [
      "For-loop desc:       999,999,995,904\n"
     ]
    }
   ],
   "source": [
    "total = np.float32(0)\n",
    "for v in values_desc:\n",
    "    total += v\n",
    "print(f'For-loop desc:    {total:18,.0f}')"
   ]
  },
  {
   "cell_type": "code",
   "execution_count": 97,
   "metadata": {},
   "outputs": [
    {
     "name": "stdout",
     "output_type": "stream",
     "text": [
      "Float64:   1,000,000,995,904\n"
     ]
    }
   ],
   "source": [
    "total = np.float64(0.0)\n",
    "for v in values_desc:\n",
    "    total += v\n",
    "print(f'Float64:  {total:18,.0f}')"
   ]
  },
  {
   "cell_type": "code",
   "execution_count": 91,
   "metadata": {},
   "outputs": [],
   "source": [
    "def pairwise(array):\n",
    "    if len(array) == 1:\n",
    "        return array[0]\n",
    "    else:\n",
    "        return pairwise(array[:len(array) // 2]) + pairwise(array[len(array) // 2:])"
   ]
  },
  {
   "cell_type": "code",
   "execution_count": 92,
   "metadata": {},
   "outputs": [
    {
     "data": {
      "text/plain": [
       "1000001000000.0"
      ]
     },
     "execution_count": 92,
     "metadata": {},
     "output_type": "execute_result"
    }
   ],
   "source": [
    "pairwise(values_asc)"
   ]
  },
  {
   "cell_type": "code",
   "execution_count": 93,
   "metadata": {},
   "outputs": [
    {
     "data": {
      "text/plain": [
       "1000001000000.0"
      ]
     },
     "execution_count": 93,
     "metadata": {},
     "output_type": "execute_result"
    }
   ],
   "source": [
    "pairwise(values_desc)"
   ]
  },
  {
   "cell_type": "code",
   "execution_count": 94,
   "metadata": {},
   "outputs": [
    {
     "data": {
      "text/plain": [
       "1000001000000.0"
      ]
     },
     "execution_count": 94,
     "metadata": {},
     "output_type": "execute_result"
    }
   ],
   "source": [
    "pairwise(values_rand)"
   ]
  },
  {
   "cell_type": "code",
   "execution_count": 98,
   "metadata": {},
   "outputs": [
    {
     "data": {
      "text/plain": [
       "1e+20"
      ]
     },
     "execution_count": 98,
     "metadata": {},
     "output_type": "execute_result"
    }
   ],
   "source": [
    "a = 1e20\n",
    "a"
   ]
  },
  {
   "cell_type": "code",
   "execution_count": 100,
   "metadata": {},
   "outputs": [
    {
     "data": {
      "text/plain": [
       "1"
      ]
     },
     "execution_count": 100,
     "metadata": {},
     "output_type": "execute_result"
    }
   ],
   "source": [
    "b = 1\n",
    "b"
   ]
  },
  {
   "cell_type": "code",
   "execution_count": 101,
   "metadata": {},
   "outputs": [
    {
     "data": {
      "text/plain": [
       "1e+20"
      ]
     },
     "execution_count": 101,
     "metadata": {},
     "output_type": "execute_result"
    }
   ],
   "source": [
    "a + b"
   ]
  },
  {
   "cell_type": "code",
   "execution_count": null,
   "metadata": {},
   "outputs": [],
   "source": []
  }
 ],
 "metadata": {
  "interpreter": {
   "hash": "9b723ee73e910167a1203d362af322eea6d715ec4fd5956d6fe6391ae3f4a133"
  },
  "kernelspec": {
   "display_name": "Python 3.8.1 64-bit ('hpc': pyenv)",
   "name": "python3"
  },
  "language_info": {
   "codemirror_mode": {
    "name": "ipython",
    "version": 3
   },
   "file_extension": ".py",
   "mimetype": "text/x-python",
   "name": "python",
   "nbconvert_exporter": "python",
   "pygments_lexer": "ipython3",
   "version": "3.8.1"
  },
  "orig_nbformat": 4
 },
 "nbformat": 4,
 "nbformat_minor": 2
}
